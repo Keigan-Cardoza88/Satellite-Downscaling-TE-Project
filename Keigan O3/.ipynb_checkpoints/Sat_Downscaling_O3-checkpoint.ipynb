{
 "cells": [
  {
   "cell_type": "code",
   "execution_count": 8,
   "id": "507a1eb4-c252-4d17-9576-4f9e4868efd0",
   "metadata": {},
   "outputs": [],
   "source": [
    "import pandas as pd\n",
    "import numpy as np\n",
    "import seaborn as sns\n",
    "import matplotlib.pyplot as plt\n",
    "%matplotlib inline\n",
    "#!pip install rasterio\n",
    "import rasterio\n",
    "import xarray as xr"
   ]
  },
  {
   "cell_type": "code",
   "execution_count": 19,
   "id": "4d250212-8a60-40d1-a57d-6c9aba35506f",
   "metadata": {},
   "outputs": [],
   "source": [
    "pd.set_option('display.max_columns', None)\n",
    "pd.set_option(\"display.max_rows\", None)"
   ]
  },
  {
   "cell_type": "code",
   "execution_count": 42,
   "id": "2542e804-7058-4401-9ab1-0d3853d179cf",
   "metadata": {},
   "outputs": [
    {
     "name": "stdout",
     "output_type": "stream",
     "text": [
      "Saved CSV: D:\\Satellite Downscaling Mini Project\\Satellite-Downscaling-TE-Project\\Keigan O3\\Maharashtra_O3_July2024-Dec2024.csv\n",
      "           x          y  band_1\n",
      "0  72.660232  22.040165     NaN\n",
      "1  72.723114  22.040165     NaN\n",
      "2  72.785996  22.040165     NaN\n",
      "3  72.848878  22.040165     NaN\n",
      "4  72.911760  22.040165     NaN\n"
     ]
    }
   ],
   "source": [
    "#!pip install rasterio\n",
    "\n",
    "import rasterio\n",
    "import pandas as pd\n",
    "import numpy as np\n",
    "import os\n",
    "\n",
    "# Path to the TIFF file\n",
    "tiff_path = r\"D:\\satellite Downscaling Mini Project\\Satellite-Downscaling-TE-Project\\Keigan O3\\Maharashtra_O3_July2024-Dec2024.tif\"\n",
    "\n",
    "# Output CSV path\n",
    "csv_path = r\"D:\\Satellite Downscaling Mini Project\\Satellite-Downscaling-TE-Project\\Keigan O3\\Maharashtra_O3_July2024-Dec2024.csv\"\n",
    "\n",
    "with rasterio.open(tiff_path) as src:\n",
    "    data = src.read()  # shape = (bands, rows, cols)\n",
    "\n",
    "    # Get pixel coordinates\n",
    "    rows, cols = np.meshgrid(\n",
    "        np.arange(data.shape[1]),\n",
    "        np.arange(data.shape[2]),\n",
    "        indexing='ij'\n",
    "    )\n",
    "\n",
    "    # Convert pixel indices to lat/lon\n",
    "    xs, ys = rasterio.transform.xy(src.transform, rows.flatten(), cols.flatten())\n",
    "    df = pd.DataFrame({\"x\": xs, \"y\": ys})\n",
    "\n",
    "    # Add each band as a column\n",
    "    for i in range(data.shape[0]):\n",
    "        df[f\"band_{i+1}\"] = data[i].flatten()\n",
    "\n",
    "# Save DataFrame to CSV\n",
    "df.to_csv(csv_path, index=False)\n",
    "print(f\"Saved CSV: {csv_path}\")\n",
    "print(df.head())"
   ]
  },
  {
   "cell_type": "code",
   "execution_count": null,
   "id": "1ce45ca3-8818-4da5-a9c4-4bf8a6b482a9",
   "metadata": {},
   "outputs": [],
   "source": []
  }
 ],
 "metadata": {
  "kernelspec": {
   "display_name": "Python 3 (ipykernel)",
   "language": "python",
   "name": "python3"
  },
  "language_info": {
   "codemirror_mode": {
    "name": "ipython",
    "version": 3
   },
   "file_extension": ".py",
   "mimetype": "text/x-python",
   "name": "python",
   "nbconvert_exporter": "python",
   "pygments_lexer": "ipython3",
   "version": "3.13.5"
  }
 },
 "nbformat": 4,
 "nbformat_minor": 5
}
