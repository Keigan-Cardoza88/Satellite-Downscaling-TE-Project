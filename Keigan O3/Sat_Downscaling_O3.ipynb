{
 "cells": [
  {
   "cell_type": "code",
   "execution_count": 6,
   "id": "507a1eb4-c252-4d17-9576-4f9e4868efd0",
   "metadata": {},
   "outputs": [],
   "source": [
    "import pandas as pd\n",
    "import numpy as np\n",
    "import seaborn as sns\n",
    "import matplotlib.pyplot as plt\n",
    "%matplotlib inline\n",
    "import rasterio\n",
    "import xarray as xr"
   ]
  },
  {
   "cell_type": "code",
   "execution_count": 7,
   "id": "e227d183-d7a4-4cac-8bba-b040e22bae46",
   "metadata": {
    "scrolled": true
   },
   "outputs": [
    {
     "name": "stdout",
     "output_type": "stream",
     "text": [
      "<xarray.DataArray (y: 103, x: 132)> Size: 109kB\n",
      "array([[nan, nan, nan, ..., nan, nan, nan],\n",
      "       [nan, nan, nan, ..., nan, nan, nan],\n",
      "       [nan, nan, nan, ..., nan, nan, nan],\n",
      "       ...,\n",
      "       [nan, nan, nan, ..., nan, nan, nan],\n",
      "       [nan, nan, nan, ..., nan, nan, nan],\n",
      "       [nan, nan, nan, ..., nan, nan, nan]])\n",
      "Coordinates:\n",
      "  * y        (y) float64 824B 22.04 21.98 21.91 21.85 ... 15.75 15.69 15.63\n",
      "  * x        (x) float64 1kB 72.66 72.72 72.79 72.85 ... 80.71 80.77 80.83 80.9\n"
     ]
    }
   ],
   "source": [
    "# Open the GeoTIFF\n",
    "with rasterio.open(\"Maharashtra_O3_July2024-Dec2024.tif\") as src:\n",
    "    data = src.read(1)  # first band\n",
    "    coords = {\n",
    "        \"y\": src.xy(0, 0)[1] - src.res[1] * np.arange(src.height),  # latitude\n",
    "        \"x\": src.xy(0, 0)[0] + src.res[0] * np.arange(src.width)   # longitude\n",
    "    }\n",
    "    o3_da = xr.DataArray(data, dims=(\"y\",\"x\"), coords=coords)\n",
    "\n",
    "print(o3_da)"
   ]
  },
  {
   "cell_type": "code",
   "execution_count": 15,
   "id": "2689258f-8c01-4f69-87d2-079a303b44e9",
   "metadata": {},
   "outputs": [
    {
     "data": {
      "text/html": [
       "<div>\n",
       "<style scoped>\n",
       "    .dataframe tbody tr th:only-of-type {\n",
       "        vertical-align: middle;\n",
       "    }\n",
       "\n",
       "    .dataframe tbody tr th {\n",
       "        vertical-align: top;\n",
       "    }\n",
       "\n",
       "    .dataframe thead th {\n",
       "        text-align: right;\n",
       "    }\n",
       "</style>\n",
       "<table border=\"1\" class=\"dataframe\">\n",
       "  <thead>\n",
       "    <tr style=\"text-align: right;\">\n",
       "      <th></th>\n",
       "      <th>longitude</th>\n",
       "      <th>latitude</th>\n",
       "      <th>O3</th>\n",
       "    </tr>\n",
       "  </thead>\n",
       "  <tbody>\n",
       "    <tr>\n",
       "      <th>0</th>\n",
       "      <td>72.660232</td>\n",
       "      <td>20.342350</td>\n",
       "      <td>0.123790</td>\n",
       "    </tr>\n",
       "    <tr>\n",
       "      <th>1</th>\n",
       "      <td>72.660232</td>\n",
       "      <td>20.279468</td>\n",
       "      <td>0.123900</td>\n",
       "    </tr>\n",
       "    <tr>\n",
       "      <th>2</th>\n",
       "      <td>72.723114</td>\n",
       "      <td>18.770298</td>\n",
       "      <td>0.123742</td>\n",
       "    </tr>\n",
       "    <tr>\n",
       "      <th>3</th>\n",
       "      <td>72.723114</td>\n",
       "      <td>18.707416</td>\n",
       "      <td>0.123740</td>\n",
       "    </tr>\n",
       "    <tr>\n",
       "      <th>4</th>\n",
       "      <td>72.723114</td>\n",
       "      <td>18.581652</td>\n",
       "      <td>0.123744</td>\n",
       "    </tr>\n",
       "    <tr>\n",
       "      <th>...</th>\n",
       "      <td>...</td>\n",
       "      <td>...</td>\n",
       "      <td>...</td>\n",
       "    </tr>\n",
       "    <tr>\n",
       "      <th>95</th>\n",
       "      <td>73.163288</td>\n",
       "      <td>19.210472</td>\n",
       "      <td>0.123050</td>\n",
       "    </tr>\n",
       "    <tr>\n",
       "      <th>96</th>\n",
       "      <td>73.163288</td>\n",
       "      <td>19.147590</td>\n",
       "      <td>0.122966</td>\n",
       "    </tr>\n",
       "    <tr>\n",
       "      <th>97</th>\n",
       "      <td>73.163288</td>\n",
       "      <td>17.575539</td>\n",
       "      <td>0.123183</td>\n",
       "    </tr>\n",
       "    <tr>\n",
       "      <th>98</th>\n",
       "      <td>73.163288</td>\n",
       "      <td>17.512656</td>\n",
       "      <td>0.123225</td>\n",
       "    </tr>\n",
       "    <tr>\n",
       "      <th>99</th>\n",
       "      <td>73.163288</td>\n",
       "      <td>17.449774</td>\n",
       "      <td>0.123281</td>\n",
       "    </tr>\n",
       "  </tbody>\n",
       "</table>\n",
       "<p>100 rows × 3 columns</p>\n",
       "</div>"
      ],
      "text/plain": [
       "    longitude   latitude        O3\n",
       "0   72.660232  20.342350  0.123790\n",
       "1   72.660232  20.279468  0.123900\n",
       "2   72.723114  18.770298  0.123742\n",
       "3   72.723114  18.707416  0.123740\n",
       "4   72.723114  18.581652  0.123744\n",
       "..        ...        ...       ...\n",
       "95  73.163288  19.210472  0.123050\n",
       "96  73.163288  19.147590  0.122966\n",
       "97  73.163288  17.575539  0.123183\n",
       "98  73.163288  17.512656  0.123225\n",
       "99  73.163288  17.449774  0.123281\n",
       "\n",
       "[100 rows x 3 columns]"
      ]
     },
     "execution_count": 15,
     "metadata": {},
     "output_type": "execute_result"
    }
   ],
   "source": [
    "df = pd.DataFrame({\n",
    "    \"longitude\": np.repeat(o3_da.x.values, o3_da.y.size),\n",
    "    \"latitude\": np.tile(o3_da.y.values, o3_da.x.size),\n",
    "    \"O3\": o3_da.values.flatten()\n",
    "})\n",
    "df = df.dropna().reset_index(drop=True)\n",
    "df.head(100)"
   ]
  },
  {
   "cell_type": "code",
   "execution_count": 16,
   "id": "23ae7267-9cb2-4d86-9219-bff84776ac1a",
   "metadata": {},
   "outputs": [
    {
     "data": {
      "text/plain": [
       "(7069, 3)"
      ]
     },
     "execution_count": 16,
     "metadata": {},
     "output_type": "execute_result"
    }
   ],
   "source": [
    "df.shape"
   ]
  },
  {
   "cell_type": "code",
   "execution_count": null,
   "id": "8bcabb3d-d8ba-4893-8d5d-99e4fa6583b3",
   "metadata": {},
   "outputs": [],
   "source": []
  }
 ],
 "metadata": {
  "kernelspec": {
   "display_name": "Python [conda env:base] *",
   "language": "python",
   "name": "conda-base-py"
  },
  "language_info": {
   "codemirror_mode": {
    "name": "ipython",
    "version": 3
   },
   "file_extension": ".py",
   "mimetype": "text/x-python",
   "name": "python",
   "nbconvert_exporter": "python",
   "pygments_lexer": "ipython3",
   "version": "3.13.5"
  }
 },
 "nbformat": 4,
 "nbformat_minor": 5
}
