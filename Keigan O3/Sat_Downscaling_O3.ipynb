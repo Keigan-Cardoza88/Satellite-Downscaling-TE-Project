{
 "cells": [
  {
   "cell_type": "code",
   "execution_count": 8,
   "id": "507a1eb4-c252-4d17-9576-4f9e4868efd0",
   "metadata": {},
   "outputs": [],
   "source": [
    "import pandas as pd\n",
    "import numpy as np\n",
    "import seaborn as sns\n",
    "import matplotlib.pyplot as plt\n",
    "%matplotlib inline\n",
    "#!pip install rasterio\n",
    "import rasterio\n",
    "import xarray as xr"
   ]
  },
  {
   "cell_type": "code",
   "execution_count": 19,
   "id": "4d250212-8a60-40d1-a57d-6c9aba35506f",
   "metadata": {},
   "outputs": [],
   "source": [
    "pd.set_option('display.max_columns', None)\n",
    "pd.set_option(\"display.max_rows\", None)"
   ]
  },
  {
   "cell_type": "markdown",
   "id": "6d32561d-b5e7-43a9-9d68-c55e37ff8a16",
   "metadata": {},
   "source": [
    "### O3 tif to csv"
   ]
  },
  {
   "cell_type": "code",
   "execution_count": 4,
   "id": "2542e804-7058-4401-9ab1-0d3853d179cf",
   "metadata": {},
   "outputs": [
    {
     "data": {
      "text/plain": [
       "'\\nimport rasterio\\nimport pandas as pd\\nimport numpy as np\\nimport os\\n\\n# Path to the TIFF file\\ntiff_path = r\"D:\\\\satellite Downscaling Mini Project\\\\Satellite-Downscaling-TE-Project\\\\Keigan O3\\\\Maharashtra_O3_July2024-Dec2024.tif\"\\n\\n# Output CSV path\\ncsv_path = r\"D:\\\\Satellite Downscaling Mini Project\\\\Satellite-Downscaling-TE-Project\\\\Keigan O3\\\\Maharashtra_O3_July2024-Dec2024.csv\"\\n\\nwith rasterio.open(tiff_path) as src:\\n    data = src.read()  # shape = (bands, rows, cols)\\n\\n    # Get pixel coordinates\\n    rows, cols = np.meshgrid(\\n        np.arange(data.shape[1]),\\n        np.arange(data.shape[2]),\\n        indexing=\\'ij\\'\\n    )\\n\\n    # Convert pixel indices to lat/lon\\n    xs, ys = rasterio.transform.xy(src.transform, rows.flatten(), cols.flatten())\\n    df = pd.DataFrame({\"x\": xs, \"y\": ys})\\n\\n    # Add each band as a column\\n    for i in range(data.shape[0]):\\n        df[f\"band_{i+1}\"] = data[i].flatten()\\n\\n# Save DataFrame to CSV\\ndf.to_csv(csv_path, index=False)\\nprint(f\"Saved CSV: {csv_path}\")\\nprint(df.head())\\n'"
      ]
     },
     "execution_count": 4,
     "metadata": {},
     "output_type": "execute_result"
    }
   ],
   "source": [
    "\"\"\"\n",
    "import rasterio\n",
    "import pandas as pd\n",
    "import numpy as np\n",
    "import os\n",
    "\n",
    "# Path to the TIFF file\n",
    "tiff_path = r\"D:\\satellite Downscaling Mini Project\\Satellite-Downscaling-TE-Project\\Keigan O3\\Maharashtra_O3_July2024-Dec2024.tif\"\n",
    "\n",
    "# Output CSV path\n",
    "csv_path = r\"D:\\Satellite Downscaling Mini Project\\Satellite-Downscaling-TE-Project\\Keigan O3\\Maharashtra_O3_July2024-Dec2024.csv\"\n",
    "\n",
    "with rasterio.open(tiff_path) as src:\n",
    "    data = src.read()  # shape = (bands, rows, cols)\n",
    "\n",
    "    # Get pixel coordinates\n",
    "    rows, cols = np.meshgrid(\n",
    "        np.arange(data.shape[1]),\n",
    "        np.arange(data.shape[2]),\n",
    "        indexing='ij'\n",
    "    )\n",
    "\n",
    "    # Convert pixel indices to lat/lon\n",
    "    xs, ys = rasterio.transform.xy(src.transform, rows.flatten(), cols.flatten())\n",
    "    df = pd.DataFrame({\"x\": xs, \"y\": ys})\n",
    "\n",
    "    # Add each band as a column\n",
    "    for i in range(data.shape[0]):\n",
    "        df[f\"band_{i+1}\"] = data[i].flatten()\n",
    "\n",
    "# Save DataFrame to CSV\n",
    "df.to_csv(csv_path, index=False)\n",
    "print(f\"Saved CSV: {csv_path}\")\n",
    "print(df.head())\n",
    "\"\"\""
   ]
  },
  {
   "cell_type": "markdown",
   "id": "22e703c9-6aaa-452f-8e6a-b9d7454df9d9",
   "metadata": {},
   "source": [
    "### Uv aerosol tif to csv"
   ]
  },
  {
   "cell_type": "code",
   "execution_count": 2,
   "id": "829b5dd3-6ec6-4cdf-b2a7-5a0abfc764d4",
   "metadata": {},
   "outputs": [
    {
     "name": "stdout",
     "output_type": "stream",
     "text": [
      "Saved CSV: D:\\Satellite Downscaling Mini Project\\Datasets\\Maharashtra_UV_Aerosol_July2024-Dec2024.csv\n",
      "           x          y  band_1\n",
      "0  72.649003  22.028937     NaN\n",
      "1  72.653494  22.028937     NaN\n",
      "2  72.657986  22.028937     NaN\n",
      "3  72.662478  22.028937     NaN\n",
      "4  72.666969  22.028937     NaN\n"
     ]
    }
   ],
   "source": [
    "import rasterio\n",
    "import pandas as pd\n",
    "import numpy as np\n",
    "import os\n",
    "\n",
    "# Path to the TIFF file\n",
    "tiff_path = r\"D:\\Satellite Downscaling Mini Project\\Datasets\\Maharashtra_UV_Aerosol_July2024-Dec2024.tif\"\n",
    "\n",
    "# Output CSV path\n",
    "csv_path = r\"D:\\Satellite Downscaling Mini Project\\Datasets\\Maharashtra_UV_Aerosol_July2024-Dec2024.csv\"\n",
    "\n",
    "with rasterio.open(tiff_path) as src:\n",
    "    data = src.read()\n",
    "    rows, cols = np.meshgrid(                  # Gets pixel coordinates\n",
    "        np.arange(data.shape[1]),\n",
    "        np.arange(data.shape[2]),\n",
    "        indexing='ij'\n",
    "    )\n",
    "    xs, ys = rasterio.transform.xy(src.transform, rows.flatten(), cols.flatten())\n",
    "    df = pd.DataFrame({\"x\": xs, \"y\": ys})           #Makes latitude Longitude columns\n",
    "\n",
    "    #for the actual data value columns\n",
    "    for i in range(data.shape[0]):\n",
    "        df[f\"band_{i+1}\"] = data[i].flatten()\n",
    "        \n",
    "df.to_csv(csv_path, index=False)\n",
    "print(f\"Saved CSV: {csv_path}\")\n",
    "print(df.head())"
   ]
  },
  {
   "cell_type": "markdown",
   "id": "67bb42e4-8d86-41f0-b990-46d2d77857db",
   "metadata": {},
   "source": [
    "### Crop Land tif to csv"
   ]
  },
  {
   "cell_type": "code",
   "execution_count": 5,
   "id": "f1bcde6f-08c8-4a7c-be37-879d68655190",
   "metadata": {},
   "outputs": [
    {
     "name": "stdout",
     "output_type": "stream",
     "text": [
      "Saved CSV: D:\\Satellite Downscaling Mini Project\\Datasets\\Maharashtra_Crop_Land_Extent.csv\n",
      "           x          y  band_1\n",
      "0  72.649003  22.028937       0\n",
      "1  72.653494  22.028937       0\n",
      "2  72.657986  22.028937       0\n",
      "3  72.662478  22.028937       0\n",
      "4  72.666969  22.028937       0\n"
     ]
    }
   ],
   "source": [
    "import rasterio\n",
    "import pandas as pd\n",
    "import numpy as np\n",
    "import os\n",
    "\n",
    "# Path to the TIFF file\n",
    "tiff_path = r\"D:\\Satellite Downscaling Mini Project\\Datasets\\Maharashtra_Crop_Land_Extent.tif\"\n",
    "\n",
    "# Output CSV path\n",
    "csv_path = r\"D:\\Satellite Downscaling Mini Project\\Datasets\\Maharashtra_Crop_Land_Extent.csv\"\n",
    "\n",
    "with rasterio.open(tiff_path) as src:\n",
    "    data = src.read()\n",
    "    rows, cols = np.meshgrid(                  # Gets pixel coordinates\n",
    "        np.arange(data.shape[1]),\n",
    "        np.arange(data.shape[2]),\n",
    "        indexing='ij'\n",
    "    )\n",
    "    xs, ys = rasterio.transform.xy(src.transform, rows.flatten(), cols.flatten())\n",
    "    df = pd.DataFrame({\"x\": xs, \"y\": ys})           #Makes latitude Longitude columns\n",
    "\n",
    "    #for the actual data value columns\n",
    "    for i in range(data.shape[0]):\n",
    "        df[f\"band_{i+1}\"] = data[i].flatten()\n",
    "        \n",
    "df.to_csv(csv_path, index=False)\n",
    "print(f\"Saved CSV: {csv_path}\")\n",
    "print(df.head())"
   ]
  },
  {
   "cell_type": "markdown",
   "id": "29945763-3044-4911-8e97-520ef326c17d",
   "metadata": {},
   "source": [
    "### Evapo Transpiration tif to csv"
   ]
  },
  {
   "cell_type": "code",
   "execution_count": 1,
   "id": "a0a7d258-2bfc-4781-903e-39dd142fe1d8",
   "metadata": {},
   "outputs": [
    {
     "name": "stdout",
     "output_type": "stream",
     "text": [
      "Saved CSV: D:\\Satellite Downscaling Mini Project\\Datasets\\Maharashtra_Evapo_Transpiration_July2024_Dec2024.csv\n",
      "           x          y  band_1\n",
      "0  72.649003  22.028937     NaN\n",
      "1  72.653494  22.028937     NaN\n",
      "2  72.657986  22.028937     NaN\n",
      "3  72.662478  22.028937     NaN\n",
      "4  72.666969  22.028937     NaN\n"
     ]
    }
   ],
   "source": [
    "import rasterio\n",
    "import pandas as pd\n",
    "import numpy as np\n",
    "import os\n",
    "\n",
    "# Path to the TIFF file\n",
    "tiff_path = r\"D:\\Satellite Downscaling Mini Project\\Datasets\\Maharashtra_Evapo_Transpiration_July2024_Dec2024.tif\"\n",
    "\n",
    "# Output CSV path\n",
    "csv_path = r\"D:\\Satellite Downscaling Mini Project\\Datasets\\Maharashtra_Evapo_Transpiration_July2024_Dec2024.csv\"\n",
    "\n",
    "with rasterio.open(tiff_path) as src:\n",
    "    data = src.read()\n",
    "    rows, cols = np.meshgrid(                  # Gets pixel coordinates\n",
    "        np.arange(data.shape[1]),\n",
    "        np.arange(data.shape[2]),\n",
    "        indexing='ij'\n",
    "    )\n",
    "    xs, ys = rasterio.transform.xy(src.transform, rows.flatten(), cols.flatten())\n",
    "    df = pd.DataFrame({\"x\": xs, \"y\": ys})           #Makes latitude Longitude columns\n",
    "\n",
    "    #for the actual data value columns\n",
    "    for i in range(data.shape[0]):\n",
    "        df[f\"band_{i+1}\"] = data[i].flatten()\n",
    "        \n",
    "df.to_csv(csv_path, index=False)\n",
    "print(f\"Saved CSV: {csv_path}\")\n",
    "print(df.head())"
   ]
  },
  {
   "cell_type": "markdown",
   "id": "82b2a98b-5378-4608-900d-87c8b348038e",
   "metadata": {},
   "source": [
    "### Soil Water Content tif to csv"
   ]
  },
  {
   "cell_type": "code",
   "execution_count": 2,
   "id": "04aad347-2ce4-4c5e-b6b6-7f3f6617cc01",
   "metadata": {},
   "outputs": [
    {
     "name": "stdout",
     "output_type": "stream",
     "text": [
      "Saved CSV: D:\\Satellite Downscaling Mini Project\\Datasets\\Maharashtra_Soil_Volumetric_Water_Content_2024.csv\n",
      "           x          y  band_1  band_2  band_3  band_4\n",
      "0  72.649003  22.028937     NaN     NaN     NaN     NaN\n",
      "1  72.653494  22.028937     NaN     NaN     NaN     NaN\n",
      "2  72.657986  22.028937     NaN     NaN     NaN     NaN\n",
      "3  72.662478  22.028937     NaN     NaN     NaN     NaN\n",
      "4  72.666969  22.028937     NaN     NaN     NaN     NaN\n"
     ]
    }
   ],
   "source": [
    "import rasterio\n",
    "import pandas as pd\n",
    "import numpy as np\n",
    "import os\n",
    "\n",
    "# Path to the TIFF file\n",
    "tiff_path = r\"D:\\Satellite Downscaling Mini Project\\Datasets\\Maharashtra_Soil_Volumetric_Water_Content_2024.tif\"\n",
    "\n",
    "# Output CSV path\n",
    "csv_path = r\"D:\\Satellite Downscaling Mini Project\\Datasets\\Maharashtra_Soil_Volumetric_Water_Content_2024.csv\"\n",
    "\n",
    "with rasterio.open(tiff_path) as src:\n",
    "    data = src.read()\n",
    "    rows, cols = np.meshgrid(                  # Gets pixel coordinates\n",
    "        np.arange(data.shape[1]),\n",
    "        np.arange(data.shape[2]),\n",
    "        indexing='ij'\n",
    "    )\n",
    "    xs, ys = rasterio.transform.xy(src.transform, rows.flatten(), cols.flatten())\n",
    "    df = pd.DataFrame({\"x\": xs, \"y\": ys})           #Makes latitude Longitude columns\n",
    "\n",
    "    #for the actual data value columns\n",
    "    for i in range(data.shape[0]):\n",
    "        df[f\"band_{i+1}\"] = data[i].flatten()\n",
    "        \n",
    "df.to_csv(csv_path, index=False)\n",
    "print(f\"Saved CSV: {csv_path}\")\n",
    "print(df.head())"
   ]
  },
  {
   "cell_type": "markdown",
   "id": "4ca69506-372b-4853-b4f5-6b8ba32ac4ef",
   "metadata": {},
   "source": [
    "### Converting global tif for viirs to maharashtra tif"
   ]
  },
  {
   "cell_type": "code",
   "execution_count": 8,
   "id": "2de8c56b-c00f-405e-97d0-1cb440bc0101",
   "metadata": {},
   "outputs": [
    {
     "name": "stdout",
     "output_type": "stream",
     "text": [
      "Export complete: D:\\Satellite Downscaling Mini Project\\Datasets\\Maharashtra_Night_Time_Lights_2024.tif\n"
     ]
    }
   ],
   "source": [
    "import rasterio\n",
    "from rasterio.mask import mask\n",
    "from shapely.geometry import box\n",
    "import json\n",
    "\n",
    "input_tif = r\"D:\\Satellite Downscaling Mini Project\\Datasets\\VNL_npp_2024_global_vcmslcfg_v2_c202502261200.average_masked.dat.tif\"\n",
    "output_tif = r\"D:\\Satellite Downscaling Mini Project\\Datasets\\Maharashtra_Night_Time_Lights_2024.tif\"\n",
    "\n",
    "# Approximate bounding box for Maharashtra [minX, minY, maxX, maxY] in EPSG:4326\n",
    "maha_bbox = [72.60000, 15.60000, 80.90000, 22.10000]  # [west, south, east, north]\n",
    "maha_geom = [box(*maha_bbox).__geo_interface__]\n",
    "\n",
    "with rasterio.open(input_tif) as src:\n",
    "    out_image, out_transform = mask(src, maha_geom, crop=True)\n",
    "    out_meta = src.meta.copy()\n",
    "\n",
    "out_meta.update({\n",
    "    \"driver\": \"GTiff\",\n",
    "    \"height\": out_image.shape[1],\n",
    "    \"width\": out_image.shape[2],\n",
    "    \"transform\": out_transform\n",
    "})\n",
    "\n",
    "with rasterio.open(output_tif, \"w\", **out_meta) as dest:\n",
    "    dest.write(out_image)\n",
    "\n",
    "print(\"Export complete:\", output_tif)\n"
   ]
  },
  {
   "cell_type": "markdown",
   "id": "3bdebfc7-c0cb-4f87-bebd-9898f289f92a",
   "metadata": {},
   "source": [
    "## Viirs (Night Time Lights) tif to csv"
   ]
  },
  {
   "cell_type": "code",
   "execution_count": 9,
   "id": "909b512e-06b0-4967-ae41-4ecff72d9915",
   "metadata": {},
   "outputs": [
    {
     "name": "stdout",
     "output_type": "stream",
     "text": [
      "Saved CSV: D:\\Satellite Downscaling Mini Project\\Datasets\\Maharashtra_Night_Time_Lights_2024.csv\n",
      "           x     y    band_1\n",
      "0  72.600002  22.1  1.290525\n",
      "1  72.604169  22.1  0.809577\n",
      "2  72.608335  22.1  0.672897\n",
      "3  72.612502  22.1  0.000000\n",
      "4  72.616669  22.1  0.000000\n"
     ]
    }
   ],
   "source": [
    "import rasterio\n",
    "import pandas as pd\n",
    "import numpy as np\n",
    "import os\n",
    "\n",
    "# Path to the TIFF file\n",
    "tiff_path = r\"D:\\Satellite Downscaling Mini Project\\Datasets\\Maharashtra_Night_Time_Lights_2024.tif\"\n",
    "\n",
    "# Output CSV path\n",
    "csv_path = r\"D:\\Satellite Downscaling Mini Project\\Datasets\\Maharashtra_Night_Time_Lights_2024.csv\"\n",
    "\n",
    "with rasterio.open(tiff_path) as src:\n",
    "    data = src.read()\n",
    "    rows, cols = np.meshgrid(                  # Gets pixel coordinates\n",
    "        np.arange(data.shape[1]),\n",
    "        np.arange(data.shape[2]),\n",
    "        indexing='ij'\n",
    "    )\n",
    "    xs, ys = rasterio.transform.xy(src.transform, rows.flatten(), cols.flatten())\n",
    "    df = pd.DataFrame({\"x\": xs, \"y\": ys})           #Makes latitude Longitude columns\n",
    "\n",
    "    #for the actual data value columns\n",
    "    for i in range(data.shape[0]):\n",
    "        df[f\"band_{i+1}\"] = data[i].flatten()\n",
    "        \n",
    "df.to_csv(csv_path, index=False)\n",
    "print(f\"Saved CSV: {csv_path}\")\n",
    "print(df.head())"
   ]
  },
  {
   "cell_type": "markdown",
   "id": "f7a81cab-af7b-4a89-bcf9-0884d726418f",
   "metadata": {},
   "source": [
    "### Converting india tif for Population Density to maharashtra tif Also resampling to 500m since this dataset is at 100m"
   ]
  },
  {
   "cell_type": "markdown",
   "id": "461cdaa7-8036-4fa3-b7d5-313810da96eb",
   "metadata": {},
   "source": [
    "### Clipping to Maharashtra"
   ]
  },
  {
   "cell_type": "code",
   "execution_count": 19,
   "id": "f608c0a4-6120-49fb-9a4a-0c595672f8e2",
   "metadata": {},
   "outputs": [
    {
     "name": "stdout",
     "output_type": "stream",
     "text": [
      "Clipping complete: D:\\Satellite Downscaling Mini Project\\Datasets\\Maharashtra_Population_Density_100m_2024.tif\n"
     ]
    }
   ],
   "source": [
    "import rasterio\n",
    "from rasterio.mask import mask\n",
    "from shapely.geometry import box\n",
    "\n",
    "input_tif = r\"D:\\Satellite Downscaling Mini Project\\Datasets\\ind_pop_2024_CN_100m_R2025A_v1.tif\"\n",
    "output_tif = r\"D:\\Satellite Downscaling Mini Project\\Datasets\\Maharashtra_Population_Density_100m_2024.tif\"\n",
    "\n",
    "# Maharashtra bounding box [minX, minY, maxX, maxY] in EPSG:4326\n",
    "maha_bbox = [72.6, 15.6, 80.9, 22.1]\n",
    "maha_geom = [box(*maha_bbox).__geo_interface__]\n",
    "\n",
    "with rasterio.open(input_tif) as src:\n",
    "    clipped_image, clipped_transform = mask(src, maha_geom, crop=True)\n",
    "    clipped_meta = src.meta.copy()\n",
    "    clipped_meta.update({\n",
    "        \"height\": clipped_image.shape[1],\n",
    "        \"width\": clipped_image.shape[2],\n",
    "        \"transform\": clipped_transform\n",
    "    })\n",
    "\n",
    "    with rasterio.open(output_tif, \"w\", **clipped_meta) as dst:\n",
    "        dst.write(clipped_image)\n",
    "\n",
    "print(\"Clipping complete:\", output_tif)"
   ]
  },
  {
   "cell_type": "markdown",
   "id": "edc731f4-6376-4589-a9ec-5c3f22a7beb2",
   "metadata": {},
   "source": [
    "### Population tif  to Population csv"
   ]
  },
  {
   "cell_type": "code",
   "execution_count": 21,
   "id": "f7974757-82fa-4c68-a37a-695f2d2dcdf7",
   "metadata": {},
   "outputs": [
    {
     "name": "stdout",
     "output_type": "stream",
     "text": [
      "Saved CSV: D:\\Satellite Downscaling Mini Project\\Datasets\\Maharashtra_Population_Density_2024.csv\n",
      "           x          y   band_1\n",
      "0  72.600416  22.099584 -99999.0\n",
      "1  72.601249  22.099584 -99999.0\n",
      "2  72.602082  22.099584 -99999.0\n",
      "3  72.602916  22.099584 -99999.0\n",
      "4  72.603749  22.099584 -99999.0\n"
     ]
    }
   ],
   "source": [
    "import rasterio\n",
    "import pandas as pd\n",
    "import numpy as np\n",
    "import os\n",
    "\n",
    "# Path to the TIFF file\n",
    "tiff_path = r\"D:\\Satellite Downscaling Mini Project\\Datasets\\Maharashtra_Population_Density_100m_2024.tif\"\n",
    "\n",
    "# Output CSV path\n",
    "csv_path = r\"D:\\Satellite Downscaling Mini Project\\Datasets\\Maharashtra_Population_Density_100m_2024.csv\"\n",
    "\n",
    "with rasterio.open(tiff_path) as src:\n",
    "    data = src.read()\n",
    "    rows, cols = np.meshgrid(                  # Gets the pixel coordss\n",
    "        np.arange(data.shape[1]),\n",
    "        np.arange(data.shape[2]),\n",
    "        indexing='ij'\n",
    "    )\n",
    "    xs, ys = rasterio.transform.xy(src.transform, rows.flatten(), cols.flatten())\n",
    "    df = pd.DataFrame({\"x\": xs, \"y\": ys})           #Makes latitude Longitude columns\n",
    "\n",
    "    #for the actual data value columns\n",
    "    for i in range(data.shape[0]):\n",
    "        df[f\"band_{i+1}\"] = data[i].flatten()\n",
    "        \n",
    "df.to_csv(csv_path, index=False)\n",
    "print(f\"Saved CSV: {csv_path}\")\n",
    "print(df.head())"
   ]
  },
  {
   "cell_type": "markdown",
   "id": "7245a456-006c-4baf-8c4c-7112fe82def5",
   "metadata": {},
   "source": [
    "### Resampling 100m csv to 500m csv"
   ]
  },
  {
   "cell_type": "code",
   "execution_count": 23,
   "id": "7e0ffc94-4bf9-414b-86e6-079d837d2358",
   "metadata": {},
   "outputs": [
    {
     "name": "stdout",
     "output_type": "stream",
     "text": [
      "500m CSV saved: D:\\Satellite Downscaling Mini Project\\Datasets\\Maharashtra_Population_Density_500m_2024.csv\n",
      "       x_500      y_500  population\n",
      "0  72.599099  15.599099  -1999980.0\n",
      "1  72.599099  15.603604  -2399976.0\n",
      "2  72.599099  15.608108  -1999980.0\n",
      "3  72.599099  15.612613  -2399976.0\n",
      "4  72.599099  15.617117  -1999980.0\n"
     ]
    }
   ],
   "source": [
    "import pandas as pd\n",
    "import numpy as np\n",
    "\n",
    "csv_100m = r\"D:\\Satellite Downscaling Mini Project\\Datasets\\Maharashtra_Population_Density_2024.csv\"\n",
    "csv_500m = r\"D:\\Satellite Downscaling Mini Project\\Datasets\\Maharashtra_Population_Density_500m_2024.csv\"\n",
    "\n",
    "# 500 m in degrees\n",
    "deg_res = 500 / 111000  # ~0.0045045 degrees\n",
    "\n",
    "df = pd.read_csv(csv_100m)\n",
    "\n",
    "# Floor coordinates to nearest 500m grid\n",
    "df['x_500'] = (df['x'] // deg_res) * deg_res\n",
    "df['y_500'] = (df['y'] // deg_res) * deg_res\n",
    "\n",
    "# Aggregate population by 500m grid\n",
    "df_500m = df.groupby(['x_500', 'y_500'], as_index=False)['band_1'].sum()\n",
    "df_500m.rename(columns={'band_1':'population'}, inplace=True)\n",
    "\n",
    "# Save CSV\n",
    "df_500m.to_csv(csv_500m, index=False)\n",
    "print(\"500m CSV saved:\", csv_500m)\n",
    "print(df_500m.head())"
   ]
  },
  {
   "cell_type": "markdown",
   "id": "2f55eb19-15c6-4762-ba0e-7cd63d9a3caa",
   "metadata": {},
   "source": [
    "### Land Cover Dynamics tif to csv"
   ]
  },
  {
   "cell_type": "code",
   "execution_count": 1,
   "id": "a4ed876b-04f3-4b38-bcf2-b8d1ff17d572",
   "metadata": {},
   "outputs": [
    {
     "name": "stdout",
     "output_type": "stream",
     "text": [
      "Saved CSV: D:\\Satellite Downscaling Mini Project\\Datasets\\Maharashtra_Land_Cover_Dynamics_2024.csv\n",
      "           x          y  band_1  band_2  band_3  band_4  band_5  band_6  \\\n",
      "0  72.649003  22.028937     NaN     NaN     NaN     NaN     NaN     NaN   \n",
      "1  72.653494  22.028937     NaN     NaN     NaN     NaN     NaN     NaN   \n",
      "2  72.657986  22.028937     NaN     NaN     NaN     NaN     NaN     NaN   \n",
      "3  72.662478  22.028937     NaN     NaN     NaN     NaN     NaN     NaN   \n",
      "4  72.666969  22.028937     NaN     NaN     NaN     NaN     NaN     NaN   \n",
      "\n",
      "   band_7  band_8  band_9  band_10  band_11  band_12  band_13  band_14  \n",
      "0     NaN     NaN     NaN      NaN      NaN      NaN      NaN      NaN  \n",
      "1     NaN     NaN     NaN      NaN      NaN      NaN      NaN      NaN  \n",
      "2     NaN     NaN     NaN      NaN      NaN      NaN      NaN      NaN  \n",
      "3     NaN     NaN     NaN      NaN      NaN      NaN      NaN      NaN  \n",
      "4     NaN     NaN     NaN      NaN      NaN      NaN      NaN      NaN  \n"
     ]
    }
   ],
   "source": [
    "import rasterio\n",
    "import pandas as pd\n",
    "import numpy as np\n",
    "import os\n",
    "\n",
    "# Path to the TIFF file\n",
    "tiff_path = r\"D:\\Satellite Downscaling Mini Project\\Datasets\\Maharashtra_Land_Cover_Dynamics_2024.tif\"\n",
    "\n",
    "# Output CSV path\n",
    "csv_path = r\"D:\\Satellite Downscaling Mini Project\\Datasets\\Maharashtra_Land_Cover_Dynamics_2024.csv\"\n",
    "\n",
    "with rasterio.open(tiff_path) as src:\n",
    "    data = src.read()\n",
    "    rows, cols = np.meshgrid(                  # Gets pixel coordinates\n",
    "        np.arange(data.shape[1]),\n",
    "        np.arange(data.shape[2]),\n",
    "        indexing='ij'\n",
    "    )\n",
    "    xs, ys = rasterio.transform.xy(src.transform, rows.flatten(), cols.flatten())\n",
    "    df = pd.DataFrame({\"x\": xs, \"y\": ys})           #Makes latitude Longitude columns\n",
    "\n",
    "    #for the actual data value columns\n",
    "    for i in range(data.shape[0]):\n",
    "        df[f\"band_{i+1}\"] = data[i].flatten()\n",
    "        \n",
    "df.to_csv(csv_path, index=False)\n",
    "print(f\"Saved CSV: {csv_path}\")\n",
    "print(df.head())"
   ]
  },
  {
   "cell_type": "code",
   "execution_count": 4,
   "id": "48ce324f-e45a-4cd5-8838-6c0211aa6e66",
   "metadata": {},
   "outputs": [
    {
     "name": "stdout",
     "output_type": "stream",
     "text": [
      "Saved CSV: D:\\Satellite Downscaling Mini Project\\Datasets\\Maharashtra_Wind_Speed_2024.csv\n",
      "           x          y  band_1  band_2  band_3\n",
      "0  72.649003  22.028937     NaN     NaN     NaN\n",
      "1  72.653494  22.028937     NaN     NaN     NaN\n",
      "2  72.657986  22.028937     NaN     NaN     NaN\n",
      "3  72.662478  22.028937     NaN     NaN     NaN\n",
      "4  72.666969  22.028937     NaN     NaN     NaN\n"
     ]
    }
   ],
   "source": [
    "import rasterio\n",
    "import pandas as pd\n",
    "import numpy as np\n",
    "import os\n",
    "\n",
    "# Path to the TIFF file\n",
    "tiff_path = r\"D:\\Satellite Downscaling Mini Project\\Datasets\\Maharashtra_Wind_Speed_50_100_150m.tif\"\n",
    "\n",
    "# Output CSV path\n",
    "csv_path = r\"D:\\Satellite Downscaling Mini Project\\Datasets\\Maharashtra_Wind_Speed_2024.csv\"\n",
    "\n",
    "with rasterio.open(tiff_path) as src:\n",
    "    data = src.read()\n",
    "    rows, cols = np.meshgrid(                  # Gets pixel coordinates\n",
    "        np.arange(data.shape[1]),\n",
    "        np.arange(data.shape[2]),\n",
    "        indexing='ij'\n",
    "    )\n",
    "    xs, ys = rasterio.transform.xy(src.transform, rows.flatten(), cols.flatten())\n",
    "    df = pd.DataFrame({\"x\": xs, \"y\": ys})           #Makes latitude Longitude columns\n",
    "\n",
    "    #for the actual data value columns\n",
    "    for i in range(data.shape[0]):\n",
    "        df[f\"band_{i+1}\"] = data[i].flatten()\n",
    "        \n",
    "df.to_csv(csv_path, index=False)\n",
    "print(f\"Saved CSV: {csv_path}\")\n",
    "print(df.head())"
   ]
  },
  {
   "cell_type": "code",
   "execution_count": null,
   "id": "f343873f-425d-46cf-a1e8-a4f04181886e",
   "metadata": {},
   "outputs": [],
   "source": []
  }
 ],
 "metadata": {
  "kernelspec": {
   "display_name": "Python 3 (ipykernel)",
   "language": "python",
   "name": "python3"
  },
  "language_info": {
   "codemirror_mode": {
    "name": "ipython",
    "version": 3
   },
   "file_extension": ".py",
   "mimetype": "text/x-python",
   "name": "python",
   "nbconvert_exporter": "python",
   "pygments_lexer": "ipython3",
   "version": "3.13.5"
  }
 },
 "nbformat": 4,
 "nbformat_minor": 5
}
