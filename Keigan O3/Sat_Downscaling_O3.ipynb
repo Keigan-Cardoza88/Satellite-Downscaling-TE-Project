{
 "cells": [
  {
   "cell_type": "code",
   "execution_count": 8,
   "id": "507a1eb4-c252-4d17-9576-4f9e4868efd0",
   "metadata": {},
   "outputs": [],
   "source": [
    "import pandas as pd\n",
    "import numpy as np\n",
    "import seaborn as sns\n",
    "import matplotlib.pyplot as plt\n",
    "%matplotlib inline\n",
    "#!pip install rasterio\n",
    "import rasterio\n",
    "import xarray as xr"
   ]
  },
  {
   "cell_type": "code",
   "execution_count": 19,
   "id": "4d250212-8a60-40d1-a57d-6c9aba35506f",
   "metadata": {},
   "outputs": [],
   "source": [
    "pd.set_option('display.max_columns', None)\n",
    "pd.set_option(\"display.max_rows\", None)"
   ]
  },
  {
   "cell_type": "markdown",
   "id": "6d32561d-b5e7-43a9-9d68-c55e37ff8a16",
   "metadata": {},
   "source": [
    "### O3 tif to csv"
   ]
  },
  {
   "cell_type": "code",
   "execution_count": 4,
   "id": "2542e804-7058-4401-9ab1-0d3853d179cf",
   "metadata": {},
   "outputs": [
    {
     "data": {
      "text/plain": [
       "'\\nimport rasterio\\nimport pandas as pd\\nimport numpy as np\\nimport os\\n\\n# Path to the TIFF file\\ntiff_path = r\"D:\\\\satellite Downscaling Mini Project\\\\Satellite-Downscaling-TE-Project\\\\Keigan O3\\\\Maharashtra_O3_July2024-Dec2024.tif\"\\n\\n# Output CSV path\\ncsv_path = r\"D:\\\\Satellite Downscaling Mini Project\\\\Satellite-Downscaling-TE-Project\\\\Keigan O3\\\\Maharashtra_O3_July2024-Dec2024.csv\"\\n\\nwith rasterio.open(tiff_path) as src:\\n    data = src.read()  # shape = (bands, rows, cols)\\n\\n    # Get pixel coordinates\\n    rows, cols = np.meshgrid(\\n        np.arange(data.shape[1]),\\n        np.arange(data.shape[2]),\\n        indexing=\\'ij\\'\\n    )\\n\\n    # Convert pixel indices to lat/lon\\n    xs, ys = rasterio.transform.xy(src.transform, rows.flatten(), cols.flatten())\\n    df = pd.DataFrame({\"x\": xs, \"y\": ys})\\n\\n    # Add each band as a column\\n    for i in range(data.shape[0]):\\n        df[f\"band_{i+1}\"] = data[i].flatten()\\n\\n# Save DataFrame to CSV\\ndf.to_csv(csv_path, index=False)\\nprint(f\"Saved CSV: {csv_path}\")\\nprint(df.head())\\n'"
      ]
     },
     "execution_count": 4,
     "metadata": {},
     "output_type": "execute_result"
    }
   ],
   "source": [
    "\"\"\"\n",
    "import rasterio\n",
    "import pandas as pd\n",
    "import numpy as np\n",
    "import os\n",
    "\n",
    "# Path to the TIFF file\n",
    "tiff_path = r\"D:\\satellite Downscaling Mini Project\\Satellite-Downscaling-TE-Project\\Keigan O3\\Maharashtra_O3_July2024-Dec2024.tif\"\n",
    "\n",
    "# Output CSV path\n",
    "csv_path = r\"D:\\Satellite Downscaling Mini Project\\Satellite-Downscaling-TE-Project\\Keigan O3\\Maharashtra_O3_July2024-Dec2024.csv\"\n",
    "\n",
    "with rasterio.open(tiff_path) as src:\n",
    "    data = src.read()  # shape = (bands, rows, cols)\n",
    "\n",
    "    # Get pixel coordinates\n",
    "    rows, cols = np.meshgrid(\n",
    "        np.arange(data.shape[1]),\n",
    "        np.arange(data.shape[2]),\n",
    "        indexing='ij'\n",
    "    )\n",
    "\n",
    "    # Convert pixel indices to lat/lon\n",
    "    xs, ys = rasterio.transform.xy(src.transform, rows.flatten(), cols.flatten())\n",
    "    df = pd.DataFrame({\"x\": xs, \"y\": ys})\n",
    "\n",
    "    # Add each band as a column\n",
    "    for i in range(data.shape[0]):\n",
    "        df[f\"band_{i+1}\"] = data[i].flatten()\n",
    "\n",
    "# Save DataFrame to CSV\n",
    "df.to_csv(csv_path, index=False)\n",
    "print(f\"Saved CSV: {csv_path}\")\n",
    "print(df.head())\n",
    "\"\"\""
   ]
  },
  {
   "cell_type": "markdown",
   "id": "22e703c9-6aaa-452f-8e6a-b9d7454df9d9",
   "metadata": {},
   "source": [
    "### Uv aerosol tif to csv"
   ]
  },
  {
   "cell_type": "code",
   "execution_count": 2,
   "id": "829b5dd3-6ec6-4cdf-b2a7-5a0abfc764d4",
   "metadata": {},
   "outputs": [
    {
     "name": "stdout",
     "output_type": "stream",
     "text": [
      "Saved CSV: D:\\Satellite Downscaling Mini Project\\Datasets\\Maharashtra_UV_Aerosol_July2024-Dec2024.csv\n",
      "           x          y  band_1\n",
      "0  72.649003  22.028937     NaN\n",
      "1  72.653494  22.028937     NaN\n",
      "2  72.657986  22.028937     NaN\n",
      "3  72.662478  22.028937     NaN\n",
      "4  72.666969  22.028937     NaN\n"
     ]
    }
   ],
   "source": [
    "import rasterio\n",
    "import pandas as pd\n",
    "import numpy as np\n",
    "import os\n",
    "\n",
    "# Path to the TIFF file\n",
    "tiff_path = r\"D:\\Satellite Downscaling Mini Project\\Datasets\\Maharashtra_UV_Aerosol_July2024-Dec2024.tif\"\n",
    "\n",
    "# Output CSV path\n",
    "csv_path = r\"D:\\Satellite Downscaling Mini Project\\Datasets\\Maharashtra_UV_Aerosol_July2024-Dec2024.csv\"\n",
    "\n",
    "with rasterio.open(tiff_path) as src:\n",
    "    data = src.read()\n",
    "    rows, cols = np.meshgrid(                  # Gets pixel coordinates\n",
    "        np.arange(data.shape[1]),\n",
    "        np.arange(data.shape[2]),\n",
    "        indexing='ij'\n",
    "    )\n",
    "    xs, ys = rasterio.transform.xy(src.transform, rows.flatten(), cols.flatten())\n",
    "    df = pd.DataFrame({\"x\": xs, \"y\": ys})           #Makes latitude Longitude columns\n",
    "\n",
    "    #for the actual data value columns\n",
    "    for i in range(data.shape[0]):\n",
    "        df[f\"band_{i+1}\"] = data[i].flatten()\n",
    "        \n",
    "df.to_csv(csv_path, index=False)\n",
    "print(f\"Saved CSV: {csv_path}\")\n",
    "print(df.head())"
   ]
  },
  {
   "cell_type": "markdown",
   "id": "67bb42e4-8d86-41f0-b990-46d2d77857db",
   "metadata": {},
   "source": [
    "### Crop Land tif to csv"
   ]
  },
  {
   "cell_type": "code",
   "execution_count": 5,
   "id": "f1bcde6f-08c8-4a7c-be37-879d68655190",
   "metadata": {},
   "outputs": [
    {
     "name": "stdout",
     "output_type": "stream",
     "text": [
      "Saved CSV: D:\\Satellite Downscaling Mini Project\\Datasets\\Maharashtra_Crop_Land_Extent.csv\n",
      "           x          y  band_1\n",
      "0  72.649003  22.028937       0\n",
      "1  72.653494  22.028937       0\n",
      "2  72.657986  22.028937       0\n",
      "3  72.662478  22.028937       0\n",
      "4  72.666969  22.028937       0\n"
     ]
    }
   ],
   "source": [
    "import rasterio\n",
    "import pandas as pd\n",
    "import numpy as np\n",
    "import os\n",
    "\n",
    "# Path to the TIFF file\n",
    "tiff_path = r\"D:\\Satellite Downscaling Mini Project\\Datasets\\Maharashtra_Crop_Land_Extent.tif\"\n",
    "\n",
    "# Output CSV path\n",
    "csv_path = r\"D:\\Satellite Downscaling Mini Project\\Datasets\\Maharashtra_Crop_Land_Extent.csv\"\n",
    "\n",
    "with rasterio.open(tiff_path) as src:\n",
    "    data = src.read()\n",
    "    rows, cols = np.meshgrid(                  # Gets pixel coordinates\n",
    "        np.arange(data.shape[1]),\n",
    "        np.arange(data.shape[2]),\n",
    "        indexing='ij'\n",
    "    )\n",
    "    xs, ys = rasterio.transform.xy(src.transform, rows.flatten(), cols.flatten())\n",
    "    df = pd.DataFrame({\"x\": xs, \"y\": ys})           #Makes latitude Longitude columns\n",
    "\n",
    "    #for the actual data value columns\n",
    "    for i in range(data.shape[0]):\n",
    "        df[f\"band_{i+1}\"] = data[i].flatten()\n",
    "        \n",
    "df.to_csv(csv_path, index=False)\n",
    "print(f\"Saved CSV: {csv_path}\")\n",
    "print(df.head())"
   ]
  },
  {
   "cell_type": "markdown",
   "id": "29945763-3044-4911-8e97-520ef326c17d",
   "metadata": {},
   "source": [
    "### Evapo Transpiration tif to csv"
   ]
  },
  {
   "cell_type": "code",
   "execution_count": 8,
   "id": "a0a7d258-2bfc-4781-903e-39dd142fe1d8",
   "metadata": {},
   "outputs": [
    {
     "name": "stdout",
     "output_type": "stream",
     "text": [
      "Saved CSV: D:\\Satellite Downscaling Mini Project\\Datasets\\Maharashtra_Evapo_Transpiration_July2024_Dec2024.csv\n",
      "           x          y  band_1\n",
      "0  72.649003  22.028937     NaN\n",
      "1  72.653494  22.028937     NaN\n",
      "2  72.657986  22.028937     NaN\n",
      "3  72.662478  22.028937     NaN\n",
      "4  72.666969  22.028937     NaN\n"
     ]
    }
   ],
   "source": [
    "import rasterio\n",
    "import pandas as pd\n",
    "import numpy as np\n",
    "import os\n",
    "\n",
    "# Path to the TIFF file\n",
    "tiff_path = r\"D:\\Satellite Downscaling Mini Project\\Datasets\\Maharashtra_Evapo_Transpiration_July2024_Dec2024.tif\"\n",
    "\n",
    "# Output CSV path\n",
    "csv_path = r\"D:\\Satellite Downscaling Mini Project\\Datasets\\Maharashtra_Evapo_Transpiration_July2024_Dec202csv\"\n",
    "\n",
    "with rasterio.open(tiff_path) as src:\n",
    "    data = src.read()\n",
    "    rows, cols = np.meshgrid(                  # Gets pixel coordinates\n",
    "        np.arange(data.shape[1]),\n",
    "        np.arange(data.shape[2]),\n",
    "        indexing='ij'\n",
    "    )\n",
    "    xs, ys = rasterio.transform.xy(src.transform, rows.flatten(), cols.flatten())\n",
    "    df = pd.DataFrame({\"x\": xs, \"y\": ys})           #Makes latitude Longitude columns\n",
    "\n",
    "    #for the actual data value columns\n",
    "    for i in range(data.shape[0]):\n",
    "        df[f\"band_{i+1}\"] = data[i].flatten()\n",
    "        \n",
    "df.to_csv(csv_path, index=False)\n",
    "print(f\"Saved CSV: {csv_path}\")\n",
    "print(df.head())"
   ]
  },
  {
   "cell_type": "code",
   "execution_count": null,
   "id": "fd813ce9-2a39-4675-bd42-301b5f9a4372",
   "metadata": {},
   "outputs": [],
   "source": []
  }
 ],
 "metadata": {
  "kernelspec": {
   "display_name": "Python 3 (ipykernel)",
   "language": "python",
   "name": "python3"
  },
  "language_info": {
   "codemirror_mode": {
    "name": "ipython",
    "version": 3
   },
   "file_extension": ".py",
   "mimetype": "text/x-python",
   "name": "python",
   "nbconvert_exporter": "python",
   "pygments_lexer": "ipython3",
   "version": "3.13.5"
  }
 },
 "nbformat": 4,
 "nbformat_minor": 5
}
