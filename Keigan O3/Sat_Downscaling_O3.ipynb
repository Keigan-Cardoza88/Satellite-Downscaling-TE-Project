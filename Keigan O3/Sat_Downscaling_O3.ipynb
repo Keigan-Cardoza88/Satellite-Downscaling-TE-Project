{
 "cells": [
  {
   "cell_type": "code",
   "execution_count": 3,
   "id": "507a1eb4-c252-4d17-9576-4f9e4868efd0",
   "metadata": {},
   "outputs": [
    {
     "name": "stdout",
     "output_type": "stream",
     "text": [
      "Defaulting to user installation because normal site-packages is not writeable\n",
      "Collecting rasterio\n",
      "  Using cached rasterio-1.4.3-cp313-cp313-win_amd64.whl.metadata (9.4 kB)\n",
      "Collecting affine (from rasterio)\n",
      "  Using cached affine-2.4.0-py3-none-any.whl.metadata (4.0 kB)\n",
      "Requirement already satisfied: attrs in d:\\anaconda\\anaconda3\\lib\\site-packages (from rasterio) (24.3.0)\n",
      "Requirement already satisfied: certifi in d:\\anaconda\\anaconda3\\lib\\site-packages (from rasterio) (2025.8.3)\n",
      "Requirement already satisfied: click>=4.0 in d:\\anaconda\\anaconda3\\lib\\site-packages (from rasterio) (8.1.8)\n",
      "Collecting cligj>=0.5 (from rasterio)\n",
      "  Using cached cligj-0.7.2-py3-none-any.whl.metadata (5.0 kB)\n",
      "Requirement already satisfied: numpy>=1.24 in d:\\anaconda\\anaconda3\\lib\\site-packages (from rasterio) (2.1.3)\n",
      "Collecting click-plugins (from rasterio)\n",
      "  Using cached click_plugins-1.1.1.2-py2.py3-none-any.whl.metadata (6.5 kB)\n",
      "Requirement already satisfied: pyparsing in d:\\anaconda\\anaconda3\\lib\\site-packages (from rasterio) (3.2.0)\n",
      "Requirement already satisfied: colorama in c:\\users\\lenovo\\appdata\\roaming\\python\\python313\\site-packages (from click>=4.0->rasterio) (0.4.6)\n",
      "Using cached rasterio-1.4.3-cp313-cp313-win_amd64.whl (25.4 MB)\n",
      "Using cached cligj-0.7.2-py3-none-any.whl (7.1 kB)\n",
      "Using cached affine-2.4.0-py3-none-any.whl (15 kB)\n",
      "Using cached click_plugins-1.1.1.2-py2.py3-none-any.whl (11 kB)\n",
      "Installing collected packages: affine, cligj, click-plugins, rasterio\n",
      "\n",
      "   ---------- ----------------------------- 1/4 [cligj]\n",
      "   ------------------------------ --------- 3/4 [rasterio]\n",
      "   ------------------------------ --------- 3/4 [rasterio]\n",
      "   ------------------------------ --------- 3/4 [rasterio]\n",
      "   ------------------------------ --------- 3/4 [rasterio]\n",
      "   ------------------------------ --------- 3/4 [rasterio]\n",
      "   ------------------------------ --------- 3/4 [rasterio]\n",
      "   ------------------------------ --------- 3/4 [rasterio]\n",
      "   ------------------------------ --------- 3/4 [rasterio]\n",
      "   ------------------------------ --------- 3/4 [rasterio]\n",
      "   ------------------------------ --------- 3/4 [rasterio]\n",
      "   ------------------------------ --------- 3/4 [rasterio]\n",
      "   ------------------------------ --------- 3/4 [rasterio]\n",
      "   ------------------------------ --------- 3/4 [rasterio]\n",
      "   ------------------------------ --------- 3/4 [rasterio]\n",
      "   ------------------------------ --------- 3/4 [rasterio]\n",
      "   ---------------------------------------- 4/4 [rasterio]\n",
      "\n",
      "Successfully installed affine-2.4.0 click-plugins-1.1.1.2 cligj-0.7.2 rasterio-1.4.3\n"
     ]
    },
    {
     "name": "stderr",
     "output_type": "stream",
     "text": [
      "  WARNING: The script rio.exe is installed in 'C:\\Users\\Lenovo\\AppData\\Roaming\\Python\\Python313\\Scripts' which is not on PATH.\n",
      "  Consider adding this directory to PATH or, if you prefer to suppress this warning, use --no-warn-script-location.\n"
     ]
    }
   ],
   "source": [
    "import pandas as pd\n",
    "import numpy as np\n",
    "import seaborn as sns\n",
    "import matplotlib.pyplot as plt\n",
    "%matplotlib inline\n",
    "!pip install rasterio\n",
    "import rasterio\n",
    "import xarray as xr"
   ]
  },
  {
   "cell_type": "code",
   "execution_count": 4,
   "id": "e227d183-d7a4-4cac-8bba-b040e22bae46",
   "metadata": {
    "scrolled": true
   },
   "outputs": [
    {
     "name": "stdout",
     "output_type": "stream",
     "text": [
      "<xarray.DataArray (y: 103, x: 132)> Size: 109kB\n",
      "array([[nan, nan, nan, ..., nan, nan, nan],\n",
      "       [nan, nan, nan, ..., nan, nan, nan],\n",
      "       [nan, nan, nan, ..., nan, nan, nan],\n",
      "       ...,\n",
      "       [nan, nan, nan, ..., nan, nan, nan],\n",
      "       [nan, nan, nan, ..., nan, nan, nan],\n",
      "       [nan, nan, nan, ..., nan, nan, nan]])\n",
      "Coordinates:\n",
      "  * y        (y) float64 824B 22.04 21.98 21.91 21.85 ... 15.75 15.69 15.63\n",
      "  * x        (x) float64 1kB 72.66 72.72 72.79 72.85 ... 80.71 80.77 80.83 80.9\n"
     ]
    }
   ],
   "source": [
    "# Open the GeoTIFF\n",
    "with rasterio.open(\"Maharashtra_O3_July2024-Dec2024.tif\") as src:\n",
    "    data = src.read(1)  # first band\n",
    "    coords = {\n",
    "        \"y\": src.xy(0, 0)[1] - src.res[1] * np.arange(src.height),  # latitude\n",
    "        \"x\": src.xy(0, 0)[0] + src.res[0] * np.arange(src.width)   # longitude\n",
    "    }\n",
    "    o3_da = xr.DataArray(data, dims=(\"y\",\"x\"), coords=coords)\n",
    "\n",
    "print(o3_da)"
   ]
  },
  {
   "cell_type": "code",
   "execution_count": 5,
   "id": "2689258f-8c01-4f69-87d2-079a303b44e9",
   "metadata": {},
   "outputs": [
    {
     "ename": "AttributeError",
     "evalue": "'DataFrame' object has no attribute 'reset_ind'",
     "output_type": "error",
     "traceback": [
      "\u001b[31m---------------------------------------------------------------------------\u001b[39m",
      "\u001b[31mAttributeError\u001b[39m                            Traceback (most recent call last)",
      "\u001b[32m~\\AppData\\Local\\Temp\\ipykernel_20048\\345173706.py\u001b[39m in \u001b[36m?\u001b[39m\u001b[34m()\u001b[39m\n\u001b[32m      2\u001b[39m     \u001b[33m\"longitude\"\u001b[39m: np.repeat(o3_da.x.values, o3_da.y.size),\n\u001b[32m      3\u001b[39m     \u001b[33m\"latitude\"\u001b[39m: np.tile(o3_da.y.values, o3_da.x.size),\n\u001b[32m      4\u001b[39m     \u001b[33m\"O3\"\u001b[39m: o3_da.values.flatten()\n\u001b[32m      5\u001b[39m })\n\u001b[32m----> \u001b[39m\u001b[32m6\u001b[39m df = df.dropna().reset_ind/ex(drop=\u001b[38;5;28;01mTrue\u001b[39;00m)\n\u001b[32m      7\u001b[39m df.head(\u001b[32m100\u001b[39m)\n",
      "\u001b[32mD:\\Anaconda\\anaconda3\\Lib\\site-packages\\pandas\\core\\generic.py\u001b[39m in \u001b[36m?\u001b[39m\u001b[34m(self, name)\u001b[39m\n\u001b[32m   6295\u001b[39m             \u001b[38;5;28;01mand\u001b[39;00m name \u001b[38;5;28;01mnot\u001b[39;00m \u001b[38;5;28;01min\u001b[39;00m self._accessors\n\u001b[32m   6296\u001b[39m             \u001b[38;5;28;01mand\u001b[39;00m self._info_axis._can_hold_identifiers_and_holds_name(name)\n\u001b[32m   6297\u001b[39m         ):\n\u001b[32m   6298\u001b[39m             \u001b[38;5;28;01mreturn\u001b[39;00m self[name]\n\u001b[32m-> \u001b[39m\u001b[32m6299\u001b[39m         \u001b[38;5;28;01mreturn\u001b[39;00m object.__getattribute__(self, name)\n",
      "\u001b[31mAttributeError\u001b[39m: 'DataFrame' object has no attribute 'reset_ind'"
     ]
    }
   ],
   "source": [
    "df = pd.DataFrame({\n",
    "    \"longitude\": np.repeat(o3_da.x.values, o3_da.y.size),\n",
    "    \"latitude\": np.tile(o3_da.y.values, o3_da.x.size),\n",
    "    \"O3\": o3_da.values.flatten()\n",
    "})\n",
    "df = df.dropna().reset_ind/ex(drop=True)\n",
    "df.head(100)"
   ]
  },
  {
   "cell_type": "code",
   "execution_count": 16,
   "id": "23ae7267-9cb2-4d86-9219-bff84776ac1a",
   "metadata": {},
   "outputs": [
    {
     "data": {
      "text/plain": [
       "(7069, 3)"
      ]
     },
     "execution_count": 16,
     "metadata": {},
     "output_type": "execute_result"
    }
   ],
   "source": [
    "df.shape"
   ]
  },
  {
   "cell_type": "code",
   "execution_count": null,
   "id": "8bcabb3d-d8ba-4893-8d5d-99e4fa6583b3",
   "metadata": {},
   "outputs": [],
   "source": []
  }
 ],
 "metadata": {
  "kernelspec": {
   "display_name": "Python 3 (ipykernel)",
   "language": "python",
   "name": "python3"
  },
  "language_info": {
   "codemirror_mode": {
    "name": "ipython",
    "version": 3
   },
   "file_extension": ".py",
   "mimetype": "text/x-python",
   "name": "python",
   "nbconvert_exporter": "python",
   "pygments_lexer": "ipython3",
   "version": "3.13.5"
  }
 },
 "nbformat": 4,
 "nbformat_minor": 5
}
