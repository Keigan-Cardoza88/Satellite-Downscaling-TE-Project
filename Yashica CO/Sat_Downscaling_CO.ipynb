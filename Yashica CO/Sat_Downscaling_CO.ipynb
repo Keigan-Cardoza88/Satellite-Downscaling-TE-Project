{
 "cells": [
  {
   "cell_type": "code",
   "execution_count": 1,
   "id": "69051cab-347c-46f7-8d6e-04bcaa33b53d",
   "metadata": {},
   "outputs": [
    {
     "name": "stdout",
     "output_type": "stream",
     "text": [
      "Collecting rasterio\n",
      "  Downloading rasterio-1.4.3-cp312-cp312-win_amd64.whl.metadata (9.4 kB)\n",
      "Collecting affine (from rasterio)\n",
      "  Downloading affine-2.4.0-py3-none-any.whl.metadata (4.0 kB)\n",
      "Requirement already satisfied: attrs in c:\\users\\yashica\\anaconda3\\lib\\site-packages (from rasterio) (23.1.0)\n",
      "Requirement already satisfied: certifi in c:\\users\\yashica\\anaconda3\\lib\\site-packages (from rasterio) (2025.8.3)\n",
      "Requirement already satisfied: click>=4.0 in c:\\users\\yashica\\anaconda3\\lib\\site-packages (from rasterio) (8.1.7)\n",
      "Collecting cligj>=0.5 (from rasterio)\n",
      "  Downloading cligj-0.7.2-py3-none-any.whl.metadata (5.0 kB)\n",
      "Requirement already satisfied: numpy>=1.24 in c:\\users\\yashica\\anaconda3\\lib\\site-packages (from rasterio) (1.26.4)\n",
      "Collecting click-plugins (from rasterio)\n",
      "  Downloading click_plugins-1.1.1.2-py2.py3-none-any.whl.metadata (6.5 kB)\n",
      "Requirement already satisfied: pyparsing in c:\\users\\yashica\\anaconda3\\lib\\site-packages (from rasterio) (3.1.2)\n",
      "Requirement already satisfied: colorama in c:\\users\\yashica\\anaconda3\\lib\\site-packages (from click>=4.0->rasterio) (0.4.6)\n",
      "Downloading rasterio-1.4.3-cp312-cp312-win_amd64.whl (25.4 MB)\n",
      "   ---------------------------------------- 0.0/25.4 MB ? eta -:--:--\n",
      "   ------------- -------------------------- 8.7/25.4 MB 44.9 MB/s eta 0:00:01\n",
      "   --------------------- ------------------ 13.9/25.4 MB 33.6 MB/s eta 0:00:01\n",
      "   ------------------------------ --------- 19.1/25.4 MB 31.8 MB/s eta 0:00:01\n",
      "   -------------------------------------- - 24.6/25.4 MB 28.9 MB/s eta 0:00:01\n",
      "   ---------------------------------------- 25.4/25.4 MB 23.3 MB/s eta 0:00:00\n",
      "Downloading cligj-0.7.2-py3-none-any.whl (7.1 kB)\n",
      "Downloading affine-2.4.0-py3-none-any.whl (15 kB)\n",
      "Downloading click_plugins-1.1.1.2-py2.py3-none-any.whl (11 kB)\n",
      "Installing collected packages: affine, cligj, click-plugins, rasterio\n",
      "Successfully installed affine-2.4.0 click-plugins-1.1.1.2 cligj-0.7.2 rasterio-1.4.3\n",
      "CRS: EPSG:4326\n",
      "Resolution: (0.0628820698883665, 0.0628820698883665)\n",
      "Transform: | 0.06, 0.00, 72.63|\n",
      "| 0.00,-0.06, 22.07|\n",
      "| 0.00, 0.00, 1.00|\n"
     ]
    }
   ],
   "source": [
    "!pip install rasterio\n",
    "import rasterio \n",
    "\n",
    "with rasterio.open(\"Maharashtra_UV_Aerosol_July2024-Dec2024.tif\") as src:\n",
    "    print(\"CRS:\", src.crs)        # Coordinate system\n",
    "    print(\"Resolution:\", src.res) # Pixel size (width, height)\n",
    "    print(\"Transform:\", src.transform)\n"
   ]
  },
  {
   "cell_type": "code",
   "execution_count": 2,
   "id": "419ed19c-cf8c-4a0b-94d8-f723328af8fb",
   "metadata": {},
   "outputs": [
    {
     "name": "stdout",
     "output_type": "stream",
     "text": [
      "Requirement already satisfied: rasterio in c:\\users\\yashica\\anaconda3\\lib\\site-packages (1.4.3)\n",
      "Requirement already satisfied: affine in c:\\users\\yashica\\anaconda3\\lib\\site-packages (from rasterio) (2.4.0)\n",
      "Requirement already satisfied: attrs in c:\\users\\yashica\\anaconda3\\lib\\site-packages (from rasterio) (23.1.0)\n",
      "Requirement already satisfied: certifi in c:\\users\\yashica\\anaconda3\\lib\\site-packages (from rasterio) (2025.8.3)\n",
      "Requirement already satisfied: click>=4.0 in c:\\users\\yashica\\anaconda3\\lib\\site-packages (from rasterio) (8.1.7)\n",
      "Requirement already satisfied: cligj>=0.5 in c:\\users\\yashica\\anaconda3\\lib\\site-packages (from rasterio) (0.7.2)\n",
      "Requirement already satisfied: numpy>=1.24 in c:\\users\\yashica\\anaconda3\\lib\\site-packages (from rasterio) (1.26.4)\n",
      "Requirement already satisfied: click-plugins in c:\\users\\yashica\\anaconda3\\lib\\site-packages (from rasterio) (1.1.1.2)\n",
      "Requirement already satisfied: pyparsing in c:\\users\\yashica\\anaconda3\\lib\\site-packages (from rasterio) (3.1.2)\n",
      "Requirement already satisfied: colorama in c:\\users\\yashica\\anaconda3\\lib\\site-packages (from click>=4.0->rasterio) (0.4.6)\n",
      "Saved CSV: C:\\Users\\YASHICA\\Satellite-Downscaling-TE-Project\\Yashica CO\\Maharashtra_CO_July2024-Dec2024.csv\n",
      "           x          y  band_1\n",
      "0  72.660232  22.040165     NaN\n",
      "1  72.723114  22.040165     NaN\n",
      "2  72.785996  22.040165     NaN\n",
      "3  72.848878  22.040165     NaN\n",
      "4  72.911760  22.040165     NaN\n"
     ]
    }
   ],
   "source": [
    "#!pip install rasterio\n",
    "\n",
    "import rasterio\n",
    "import pandas as pd\n",
    "import numpy as np\n",
    "import os\n",
    "\n",
    "# Path to the TIFF file\n",
    "tiff_path = r\"C:\\Users\\YASHICA\\Satellite-Downscaling-TE-Project\\Yashica CO\\Maharashtra_CO_July2024-Dec2024.tif\"\n",
    "\n",
    "# Output CSV path\n",
    "csv_path = r\"C:\\Users\\YASHICA\\Satellite-Downscaling-TE-Project\\Yashica CO\\Maharashtra_CO_July2024-Dec2024.csv\"\n",
    "\n",
    "with rasterio.open(tiff_path) as src:\n",
    "    data = src.read()  # shape = (bands, rows, cols)\n",
    "\n",
    "    # Get pixel coordinates\n",
    "    rows, cols = np.meshgrid(\n",
    "        np.arange(data.shape[1]),\n",
    "        np.arange(data.shape[2]),\n",
    "        indexing='ij'\n",
    "    )\n",
    "\n",
    "    # Convert pixel indices to lat/lon\n",
    "    xs, ys = rasterio.transform.xy(src.transform, rows.flatten(), cols.flatten())\n",
    "    df = pd.DataFrame({\"x\": xs, \"y\": ys})\n",
    "\n",
    "    # Add each band as a column\n",
    "    for i in range(data.shape[0]):\n",
    "        df[f\"band_{i+1}\"] = data[i].flatten()\n",
    "\n",
    "# Save DataFrame to CSV\n",
    "df.to_csv(csv_path, index=False)\n",
    "print(f\"Saved CSV: {csv_path}\")\n",
    "print(df.head())"
   ]
  },
  {
   "cell_type": "code",
   "execution_count": null,
   "id": "80eced57-8d41-455c-9c4b-1202b8ba81e0",
   "metadata": {},
   "outputs": [],
   "source": []
  }
 ],
 "metadata": {
  "kernelspec": {
   "display_name": "Python 3 (ipykernel)",
   "language": "python",
   "name": "python3"
  },
  "language_info": {
   "codemirror_mode": {
    "name": "ipython",
    "version": 3
   },
   "file_extension": ".py",
   "mimetype": "text/x-python",
   "name": "python",
   "nbconvert_exporter": "python",
   "pygments_lexer": "ipython3",
   "version": "3.12.7"
  }
 },
 "nbformat": 4,
 "nbformat_minor": 5
}
