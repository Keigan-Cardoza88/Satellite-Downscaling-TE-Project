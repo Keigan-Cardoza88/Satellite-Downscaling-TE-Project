{
 "cells": [
  {
   "cell_type": "code",
   "execution_count": null,
   "id": "b17f87d4-a475-4ca1-a17c-d15a30c951f2",
   "metadata": {},
   "outputs": [],
   "source": []
  }
 ],
 "metadata": {
  "kernelspec": {
   "display_name": "Python [conda env:base] *",
   "language": "python",
   "name": "conda-base-py"
  },
  "language_info": {
   "name": ""
  }
 },
 "nbformat": 4,
 "nbformat_minor": 5
}
